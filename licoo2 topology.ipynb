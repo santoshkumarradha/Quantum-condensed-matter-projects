{
 "cells": [
  {
   "cell_type": "code",
   "execution_count": null,
   "metadata": {},
   "outputs": [],
   "source": [
    "from pythtb import * # import TB model class\n",
    "import matplotlib.pyplot as plt\n",
    "import mpld3\n",
    "from IPython.core.display import display, HTML\n",
    "display(HTML(\"<style>.container { width:100% !important; }</style>\"))\n",
    "#mpld3.enable_notebook()\n",
    "def plot_bands(my_model,ax=None):\n",
    "    ax = ax or plt.gca()\n",
    "    path=[[0.0,0.0],[0.0,0.5],[0.5,0.5],[0.0,0.0]]\n",
    "    label=(r'$\\Gamma $',r'$X$', r'$M$', r'$\\Gamma $')\n",
    "    (k_vec,k_dist,k_node)=my_model.k_path(path,301,0)\n",
    "    # solve model\n",
    "    evals=my_model.solve_all(k_vec)\n",
    "    # plot band structure\n",
    "    # specify horizontal axis details\n",
    "    ax.set_xlim(k_node[0],k_node[-1])\n",
    "    ax.set_xticks(k_node)\n",
    "    ax.set_xticklabels(label)\n",
    "    for n in range(len(k_node)):\n",
    "        ax.axvline(x=k_node[n], linewidth=0.5, color='k')\n",
    "\n",
    "    # plot bands\n",
    "    for n in evals:\n",
    "        ax.plot(k_dist,n)\n",
    "\n",
    "    ax.set_title(\"licoo2 Bulk\")\n",
    "    ax.set_xlabel(\"Path in k-space\")\n",
    "    ax.set_ylabel(\"Band energy\")\n",
    "\n",
    "    return ax\n",
    "def plot_bands_fin(my_model,ax=None):\n",
    "    (k_vec,k_dist,k_node)=my_model.k_path('full',100,0)\n",
    "    k_label=[r\"$0$\",r\"$\\pi$\", r\"$2\\pi$\"]\n",
    "\n",
    "    # solve model\n",
    "    evals=my_model.solve_all(k_vec)\n",
    "    #print(evals)\n",
    "    ax = ax or plt.gca()\n",
    "    for i in evals:\n",
    "        ax.plot(k_dist,i)\n",
    "    ax.set_title(\"Surface structure\")\n",
    "    ax.set_xlabel(\"Path in k-space\")\n",
    "    ax.set_ylabel(\"Band energy\")\n",
    "    ax.set_xticks(k_node)\n",
    "    ax.set_xticklabels(k_label)\n",
    "    ax.set_xlim(k_node[0],k_node[-1])\n",
    "    for n in range(len(k_node)):\n",
    "      ax.axvline(x=k_node[n], linewidth=0.5, color='k')\n",
    "    return ax\n",
    "    \n",
    "def plot_dos_finite(my_model,ax=None):\n",
    "    (k_vec,k_dist,k_node)=my_model.k_path('full',100,0)\n",
    "    evals_true=my_model.solve_all(k_vec)\n",
    "    evals_true=evals_true.flatten()\n",
    "    ax = ax or plt.gca()\n",
    "    ax.hist(evals_true,400,range=(-2,2.))\n",
    "    #ax.set_ylim(0.0,80.0)\n",
    "    ax.set_title(\"surface DOS\")\n",
    "    ax.set_xlabel(\"Band energy\")\n",
    "    ax.set_ylabel(\"Number of states\")\n",
    "    ax.set_ylim(-.5,100)\n",
    "    return ax\n",
    "    \n",
    "    \n",
    "def show(my_model,ax=None):\n",
    "    ax = ax or plt.gca()\n",
    "    (fig,ax)=my_model.visualize(0,1)\n",
    "    ax.set_title(\"LiCoO2\")\n",
    "    ax.set_xlabel(\"x coordinate\")\n",
    "    ax.set_ylabel(\"y coordinate\")\n",
    "    #ax.set_ylim(-1,1)\n",
    "    return ax"
   ]
  },
  {
   "cell_type": "code",
   "execution_count": null,
   "metadata": {},
   "outputs": [],
   "source": [
    "from pythtb import * # import TB model class\n",
    "import matplotlib.pyplot as plt\n",
    "import matplotlib.gridspec as gridspec\n",
    "\n",
    "def mymodel(t1=-.5,t2=1,u=0.8,li=.2,co=0):\n",
    "    lat=[[1.0,0],[0.0,1.0]]\n",
    "    orb=[[0.0,0],[0.5,0],[0,.5],[.5,.5]]\n",
    "    t1=t1\n",
    "    t2=t2\n",
    "    u=u\n",
    "    li=li\n",
    "    co=co\n",
    "    my_model=tb_model(2,2,lat,orb)\n",
    "    my_model.set_hop(t1, 0, 1, [0,0])\n",
    "    my_model.set_hop(t2, 0, 1, [-1,0])\n",
    "    my_model.set_hop(t1, 2, 3, [0,0])\n",
    "    my_model.set_hop(t2, 2, 3, [-1,0])\n",
    "\n",
    "\n",
    "    my_model.set_hop(co, 0, 2, [0,0])\n",
    "    my_model.set_hop(li, 1, 3, [0,0])\n",
    "    my_model.set_hop(co, 0, 2, [0,-1])\n",
    "    my_model.set_hop(li, 1, 3, [0,-1])\n",
    "\n",
    "    my_model.set_onsite([-u,u,-u,u])\n",
    "    return my_model\n",
    "def finite_m(t1=-.5,t2=1,u=0.8,li=.2,co=0):\n",
    "    lat=[[1.0,0],[0.0,1.0]]\n",
    "    orb=[[0.0,0],[0.5,0],[0,.5],[.5,.5]]\n",
    "    t1=t1\n",
    "    t2=t2\n",
    "    u=u\n",
    "    li=li\n",
    "    co=co\n",
    "    my_model=tb_model(2,2,lat,orb)\n",
    "    my_model.set_hop(t1, 0, 1, [0,0])\n",
    "    my_model.set_hop(t2, 0, 1, [-1,0])\n",
    "    my_model.set_hop(t1, 2, 3, [0,0])\n",
    "    my_model.set_hop(t2, 2, 3, [-1,0])\n",
    "\n",
    "\n",
    "    my_model.set_hop(co, 0, 2, [0,0])\n",
    "    my_model.set_hop(li, 1, 3, [0,0])\n",
    "    my_model.set_hop(co, 0, 2, [0,-1])\n",
    "    my_model.set_hop(li, 1, 3, [0,-1])\n",
    "\n",
    "    my_model.set_onsite([-u,u,-u,u])\n",
    "    finite=my_model.cut_piece(10,0,glue_edgs=False)\n",
    "    return finite\n",
    "#print(\"t1=\",t1,\" t2=\",t2,\" t_li=\",li,\" t_Co=\",co,\" U=\",u)\n",
    "#show(my_model)\n",
    "\n",
    "\n",
    "gs = gridspec.GridSpec(2, 2)\n",
    "fig=plt.figure(figsize=(19,12))\n",
    "ax = plt.subplot(gs[0, 0])\n",
    "plot_bands(mymodel(),ax)\n",
    "ax = plt.subplot(gs[0, 1])\n",
    "plot_bands_fin(finite_m(),ax)\n",
    "ax = plt.subplot(gs[1, :])\n",
    "plot_dos_finite(finite_m(),ax)\n",
    "plt.show()"
   ]
  },
  {
   "cell_type": "code",
   "execution_count": null,
   "metadata": {},
   "outputs": [],
   "source": [
    "\n",
    "\n",
    "%matplotlib notebook\n",
    "from ipywidgets import *\n",
    "import numpy as np\n",
    "gs = gridspec.GridSpec(2, 2)\n",
    "fig=plt.figure(figsize=(9,6))\n",
    "b=Layout(width='100%', height='40px')\n",
    "def update(t1=0,u=0,li=0,co=0):\n",
    "    fig.clear()\n",
    "    ax = plt.subplot(gs[0, 0])\n",
    "    plot_bands(mymodel(t1=t1,u=u,li=li,co=co),ax)\n",
    "    ax = plt.subplot(gs[0, 1])\n",
    "    plot_bands_fin(finite_m(t1=t1,u=u,li=li,co=co),ax)\n",
    "    ax = plt.subplot(gs[1, :])\n",
    "    plot_dos_finite(finite_m(t1=t1,u=u,li=li,co=co),ax)\n",
    "    fig.tight_layout()\n",
    "    \n",
    "interact(update,t1=widgets.FloatSlider(min=-2,max=2,value=0,step=.1,layout=b),\n",
    "               u=widgets.FloatSlider(min=-1,max=1,value=0,step=.02,layout=b),\n",
    "                li=widgets.FloatSlider(min=-1,max=1,value=0,step=.02,layout=b),\n",
    "                 co=widgets.FloatSlider(min=-1,max=1,value=0,step=.02,layout=b)\n",
    "        \n",
    "        );"
   ]
  },
  {
   "cell_type": "code",
   "execution_count": 2,
   "metadata": {},
   "outputs": [
    {
     "data": {
      "application/vnd.jupyter.widget-view+json": {
       "model_id": "8f4ec29b9ad6405ebd107e9d980c53ce",
       "version_major": 2,
       "version_minor": 0
      },
      "text/plain": [
       "interactive(children=(FloatSlider(value=0.2, description='amplitude', max=1.0, min=0.1), RadioButtons(descript…"
      ]
     },
     "metadata": {},
     "output_type": "display_data"
    },
    {
     "data": {
      "text/plain": [
       "<Figure size 288x216 with 0 Axes>"
      ]
     },
     "metadata": {},
     "output_type": "display_data"
    },
    {
     "data": {
      "text/plain": [
       "<Figure size 288x216 with 0 Axes>"
      ]
     },
     "metadata": {},
     "output_type": "display_data"
    },
    {
     "data": {
      "text/plain": [
       "<Figure size 288x216 with 0 Axes>"
      ]
     },
     "metadata": {},
     "output_type": "display_data"
    },
    {
     "data": {
      "text/plain": [
       "<Figure size 288x216 with 0 Axes>"
      ]
     },
     "metadata": {},
     "output_type": "display_data"
    },
    {
     "data": {
      "text/plain": [
       "<Figure size 288x216 with 0 Axes>"
      ]
     },
     "metadata": {},
     "output_type": "display_data"
    },
    {
     "data": {
      "text/plain": [
       "<Figure size 288x216 with 0 Axes>"
      ]
     },
     "metadata": {},
     "output_type": "display_data"
    }
   ],
   "source": [
    "%matplotlib inline\n",
    "import numpy as np\n",
    "import matplotlib.pyplot as plt\n",
    "import matplotlib as mpl\n",
    "from ipywidgets import interact, FloatSlider, RadioButtons\n",
    "\n",
    "amplitude_slider = FloatSlider(min=0.1, max=1.0, step=0.1, value=0.2)\n",
    "color_buttons = RadioButtons(options=['blue', 'green', 'red'])\n",
    "# decorate the plot function with an environment from the UIs:\n",
    "@interact(amplitude=amplitude_slider, color=color_buttons)\n",
    "def plot(amplitude, color):\n",
    "    fig, ax = plt.subplots(figsize=(4, 3),\n",
    "                       subplot_kw={'axisbg':'#EEEEEE',\n",
    "                                   'axisbelow':True})\n",
    "\n",
    "    ax.grid(color='w', linewidth=2, linestyle='solid')\n",
    "    x = np.linspace(0, 10, 1000)\n",
    "    ax.plot(x, amplitude * np.sin(x), color=color,\n",
    "        lw=5, alpha=0.4)\n",
    "    ax.set_xlim(0, 10)\n",
    "    ax.set_ylim(-1.1, 1.1)\n",
    "    "
   ]
  },
  {
   "cell_type": "code",
   "execution_count": null,
   "metadata": {},
   "outputs": [],
   "source": []
  }
 ],
 "metadata": {
  "kernelspec": {
   "display_name": "Python 3",
   "language": "python",
   "name": "python3"
  },
  "language_info": {
   "codemirror_mode": {
    "name": "ipython",
    "version": 3
   },
   "file_extension": ".py",
   "mimetype": "text/x-python",
   "name": "python",
   "nbconvert_exporter": "python",
   "pygments_lexer": "ipython3",
   "version": "3.7.3"
  }
 },
 "nbformat": 4,
 "nbformat_minor": 2
}
